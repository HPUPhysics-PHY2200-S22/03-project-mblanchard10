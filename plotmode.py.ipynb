{
 "cells": [
  {
   "cell_type": "code",
   "execution_count": null,
   "id": "3b574479",
   "metadata": {},
   "outputs": [],
   "source": [
    "def plotmode(mode):\n",
    "    modeindex = mode-1\n",
    "    h = 0.01\n",
    "    ttotal = 20 #total time for calculations\n",
    "\n",
    "    # array of times\n",
    "    t = np.arange(0,ttotal,h)\n",
    "\n",
    "    # build data array with all data; u[:,0] is time; other columns are u_i for each atom i\n",
    "    u = np.zeros((int(ttotal/h), N+1))\n",
    "\n",
    "    u[:,0] = np.transpose(t) #t.T\n",
    "\n",
    "    for i in range(N):\n",
    "        u_atom = a[i,modeindex]*np.cos(omegas[modeindex]*t)\n",
    "        u[:,i+1] = np.transpose(u_atom)[:]\n",
    "\n",
    "    # plot\n",
    "    plt.figure(figsize=(12,8))\n",
    "    plt.title(\"displacement of each atom\")\n",
    "    plt.xlabel(\"t (s)\")\n",
    "    plt.ylabel(\"$u_i$ (m)\")\n",
    "    for i in range(N): #plot each atom\n",
    "        plt.plot(u[:,0], u[:,i+1], label=\"atom {:d}\".format(i+1))\n",
    "    plt.grid()\n",
    "    plt.legend()\n",
    "    plt.show()\n",
    "    \n",
    "    return u"
   ]
  }
 ],
 "metadata": {
  "kernelspec": {
   "display_name": "Python 3 (ipykernel)",
   "language": "python",
   "name": "python3"
  },
  "language_info": {
   "codemirror_mode": {
    "name": "ipython",
    "version": 3
   },
   "file_extension": ".py",
   "mimetype": "text/x-python",
   "name": "python",
   "nbconvert_exporter": "python",
   "pygments_lexer": "ipython3",
   "version": "3.9.7"
  }
 },
 "nbformat": 4,
 "nbformat_minor": 5
}
