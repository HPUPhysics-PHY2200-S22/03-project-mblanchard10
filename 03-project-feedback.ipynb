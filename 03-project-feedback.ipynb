{
 "cells": [
  {
   "cell_type": "code",
   "execution_count": 2,
   "id": "cd6df9ab",
   "metadata": {},
   "outputs": [],
   "source": [
    "import numpy as np\n",
    "import matplotlib.pyplot as plt"
   ]
  },
  {
   "cell_type": "markdown",
   "id": "90fa464b",
   "metadata": {},
   "source": [
    "# Unit 03 Project\n",
    "\n",
    "The purpose of this \"mini project\" is to demonstrate that you can solve the ODEs for coupled oscillators by:\n",
    "\n",
    "1. finding the eigenvalues and eigenvectors of the appropriate matrix and determine the frequencies and amplitudes of the normal modes\n",
    "2. using the initial condition for the masses, $u_i(t=0)$, to solve for the coefficients and then writing the general solution for $u_i(t)$ as a sum of the normal modes\n",
    "3. visualizing a normal mode $u_n(t) = a_n\\cos(\\omega_nt)$ using an animation\n",
    "4. visualizing the evolution of the system $u_i(t)$ using an animation\n",
    "\n",
    "Your project should:\n",
    "\n",
    "- clearly define the model that you are investigating.\n",
    "- use LaTeX to format mathematical equations in your narrative.\n",
    "- investigate changing parameters or initial conditions in your model.\n",
    "- validate your model by testing parameters or initial conditions for known outcomes.\n",
    "- use functions judiciously so you can rerun your model with different parameters or initial conditions.\n",
    "\n",
    "<div class=\"alert alert-success\">\n",
    "The mini-project should be of sufficient quality to post to github in your portfolio of work that can be shown to a potential employer.\n",
    "</div>\n",
    "\n",
    "\n",
    "## Grading Rubric\n",
    "\n",
    "Category | Poor (0-70%) | Good (70% - 85%) | Excellent (85%-100%)\n",
    ":---: | :--- | :--- | :---\n",
    "**Narrative** | There is very little narrative. Background information is not present or lacks detail. There is no story woven with the code. Mathematical markup is not used. No citations are included. | There is a narrative, but significant parts are missing. The writing does not flow. Sections headings are sparse. Mathematical markup is poor or insufficient. More and better citations are needed. | There is flow, and a clear storyline. Section headings are used to provide an outline. Mathematical markup is used correctly and sufficiently to display mathematics. Citations are sufficient in number and quality.\n",
    "**Code** | Code is missing or is not functional. Nothing is done to demonstrate that the code is operating correctly. Code is difficult to read. Results are missing or seriously incomplete. Visualization is not included. Units are inconsistent or incorrect. Algorithm is implemented incorrectly or the wrong algorithm chosen. There is significant error. | Code is mostly correct and the implementation or algorithm is a good method to use. Visualization is present, but titles and axes labels need improvement or visualization can be improved. Code is understandable and somewhat commented. Units are mostly consistent and correct.| The code runs flawlessly and is well-organized. The code is easy to read and understand. Units are indicated, consistent, and correct. Visualization is excellent. Techniques and algorithms are well-chosen and correctly implemented. Results are clear and understandable.\n",
    "**Difficulty** | The difficulty level is far beneath what one is capable of | The difficulty level is beneath what one is capable of. | The difficulty is well-matched to one's ablity.\n",
    "\n",
    "<div class=\"alert alert-success\">\n",
    "Your project should be in a separate notebook in this repository. You may write VPython programs in a separate `.py` file if this is more effective than including it in the notebook.\n",
    "</div>"
   ]
  },
  {
   "cell_type": "markdown",
   "id": "d893b3c3",
   "metadata": {},
   "source": [
    "## Project 1\n",
    "\n",
    "### Feedback\n",
    "\n",
    "Here are my thoughts as I worked through your notebook:\n",
    "\n",
    "- The first two paragraphs have some incorrect statements. Let's sit down together and rewrite those two paragraphs.\n",
    "- The last paragraph in the introduction is strong, and only needs a little improvement. \n",
    "- There are spelling errors and typos throughout the narrative. Proofreading will help you find those errors.\n",
    "- The application of the Momentum Principle is correct. It would be good to go the next step to develop the ODEs. Otherwise, there is no context for the mathematical calculations in the code.\n",
    "- I don't understand why you are specifiying initial conditions and calculating coefficients. You never use these because you only plot and animate the normal modes.\n",
    "- There are erroneous statements in the section \"Comparing Our Frequencies, Eigenvectors, and Coefficients\".\n",
    "- Eigenvectors are not made up of eigenfrequencies. Rather, an eigenvector is made up of the amplitudes of the displacement of each mass.\n",
    "- What is the purpose of the `animate2()` function? Did you use it.\n",
    "- You plot the first mode and animate it. Then under the section \"Plotting with different modes\" you plot it and animate it. I didn't understand why it's repeated. You should delete the first instance, since it came before the section heading.\n",
    "- Your code and calculations are all correct, but the narrative needs a lot of improvement. There are numerous erroneous statements.\n",
    "\n",
    "### Rubric Weights\n",
    "\n",
    "Category | Weight (%)\n",
    "--- |  ---\n",
    "Narrative |  40\n",
    "Code | 40\n",
    "Difficulty |  20\n",
    "\n",
    "### Grade"
   ]
  },
  {
   "cell_type": "code",
   "execution_count": 3,
   "id": "07b78562",
   "metadata": {},
   "outputs": [
    {
     "name": "stdout",
     "output_type": "stream",
     "text": [
      "Weighted Average = 80\n"
     ]
    }
   ],
   "source": [
    "weights = np.array([0.4,0.4,0.2])\n",
    "grades = np.array([70 , 85 , 90 ])\n",
    "\n",
    "ave = np.dot(weights,grades)\n",
    "\n",
    "print(\"Weighted Average = {:.0f}\".format(ave))"
   ]
  },
  {
   "cell_type": "code",
   "execution_count": null,
   "id": "492ba2bc",
   "metadata": {},
   "outputs": [],
   "source": []
  }
 ],
 "metadata": {
  "kernelspec": {
   "display_name": "Python 3 (ipykernel)",
   "language": "python",
   "name": "python3"
  },
  "language_info": {
   "codemirror_mode": {
    "name": "ipython",
    "version": 3
   },
   "file_extension": ".py",
   "mimetype": "text/x-python",
   "name": "python",
   "nbconvert_exporter": "python",
   "pygments_lexer": "ipython3",
   "version": "3.9.7"
  }
 },
 "nbformat": 4,
 "nbformat_minor": 5
}
